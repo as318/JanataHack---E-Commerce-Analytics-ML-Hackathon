{
 "cells": [
  {
   "cell_type": "code",
   "execution_count": 18,
   "metadata": {},
   "outputs": [],
   "source": [
    "import pandas as pd\n",
    "import numpy as np\n",
    "import matplotlib.pyplot as plt\n",
    "import seaborn as sns\n",
    "import datetime as dt \n",
    "import statistics as s\n",
    "import warnings\n",
    "warnings.filterwarnings('ignore')"
   ]
  },
  {
   "cell_type": "code",
   "execution_count": 2,
   "metadata": {},
   "outputs": [],
   "source": [
    "data_train = pd.read_csv('train.csv')\n",
    "data_test = pd.read_csv('test.csv')"
   ]
  },
  {
   "cell_type": "code",
   "execution_count": 3,
   "metadata": {},
   "outputs": [],
   "source": [
    "data_train['startTime'] = pd.to_datetime(data_train['startTime'])\n",
    "data_train['endTime'] = pd.to_datetime(data_train['endTime'])\n",
    "data_test['startTime'] = pd.to_datetime(data_test['startTime'])\n",
    "data_test['endTime'] = pd.to_datetime(data_test['endTime'])"
   ]
  },
  {
   "cell_type": "code",
   "execution_count": 4,
   "metadata": {},
   "outputs": [],
   "source": [
    "data_train['duration'] = data_train['endTime'] - data_train['startTime']\n",
    "data_train['duration'] = data_train['duration']/np.timedelta64(1, 'm')\n",
    "data_test['duration'] = data_test['endTime'] - data_test['startTime']\n",
    "data_test['duration'] = data_test['duration']/np.timedelta64(1, 'm')"
   ]
  },
  {
   "cell_type": "code",
   "execution_count": 5,
   "metadata": {},
   "outputs": [],
   "source": [
    "data_train['ProductList'] = data_train['ProductList'].str.split(';')\n",
    "data_train['ProductCount'] = data_train['ProductList'].str.len()\n",
    "data_test['ProductList'] = data_test['ProductList'].str.split(';')\n",
    "data_test['ProductCount'] = data_test['ProductList'].str.len()"
   ]
  },
  {
   "cell_type": "code",
   "execution_count": 6,
   "metadata": {},
   "outputs": [],
   "source": [
    "data_train['day'] = data_train['startTime'].dt.dayofweek\n",
    "data_test['day'] = data_test['startTime'].dt.dayofweek"
   ]
  },
  {
   "cell_type": "code",
   "execution_count": 7,
   "metadata": {},
   "outputs": [],
   "source": [
    "def categoryA(arr):\n",
    "    cat = []\n",
    "    for pro in arr:\n",
    "        cat.append(int(pro[1:6]))\n",
    "    return cat\n",
    "\n",
    "def categoryB(arr):\n",
    "    cat = []\n",
    "    for pro in arr:\n",
    "        cat.append(int(pro[8:13]))\n",
    "    return cat\n",
    "\n",
    "def categoryC(arr):\n",
    "    cat = []\n",
    "    for pro in arr:\n",
    "        cat.append(int(pro[15:20]))\n",
    "    return cat\n",
    "\n",
    "def categoryD(arr):\n",
    "    cat = []\n",
    "    for pro in arr:\n",
    "        cat.append(int(pro[22:-1]))\n",
    "    return cat"
   ]
  },
  {
   "cell_type": "code",
   "execution_count": 8,
   "metadata": {},
   "outputs": [],
   "source": [
    "data_train['A'] = data_train['ProductList'].apply(categoryA)\n",
    "data_train['B'] = data_train['ProductList'].apply(categoryB)\n",
    "data_train['C'] = data_train['ProductList'].apply(categoryC)\n",
    "data_train['D'] = data_train['ProductList'].apply(categoryD)\n",
    "\n",
    "data_test['A'] = data_test['ProductList'].apply(categoryA)\n",
    "data_test['B'] = data_test['ProductList'].apply(categoryB)\n",
    "data_test['C'] = data_test['ProductList'].apply(categoryC)\n",
    "data_test['D'] = data_test['ProductList'].apply(categoryD)"
   ]
  },
  {
   "cell_type": "code",
   "execution_count": 9,
   "metadata": {},
   "outputs": [
    {
     "data": {
      "text/plain": [
       "(10099, 9207, 8038, 5569)"
      ]
     },
     "execution_count": 9,
     "metadata": {},
     "output_type": "execute_result"
    }
   ],
   "source": [
    "def issame(arr):\n",
    "    for i in arr:\n",
    "        if i != arr[0]:\n",
    "            return False\n",
    "    return True\n",
    "\n",
    "(data_train['A'].apply(issame)).sum(), (data_train['B'].apply(issame)).sum(), (data_train['C'].apply(issame)).sum(), (data_train['D'].apply(issame)).sum()"
   ]
  },
  {
   "cell_type": "code",
   "execution_count": 10,
   "metadata": {},
   "outputs": [
    {
     "data": {
      "text/plain": [
       "(4324, 3904, 3418, 2365)"
      ]
     },
     "execution_count": 10,
     "metadata": {},
     "output_type": "execute_result"
    }
   ],
   "source": [
    "(data_test['A'].apply(issame)).sum(), (data_test['B'].apply(issame)).sum(), (data_test['C'].apply(issame)).sum(), (data_test['D'].apply(issame)).sum()"
   ]
  },
  {
   "cell_type": "code",
   "execution_count": 11,
   "metadata": {},
   "outputs": [],
   "source": [
    "data_train['mode_A'] = data_train['A'].apply(lambda x: max(set(x), key = x.count))\n",
    "data_train['mode_B'] = data_train['B'].apply(lambda x: max(set(x), key = x.count))\n",
    "data_train['mode_C'] = data_train['C'].apply(lambda x: max(set(x), key = x.count))\n",
    "\n",
    "data_test['mode_A'] = data_test['A'].apply(lambda x: max(set(x), key = x.count))\n",
    "data_test['mode_B'] = data_test['B'].apply(lambda x: max(set(x), key = x.count))\n",
    "data_test['mode_C'] = data_test['C'].apply(lambda x: max(set(x), key = x.count))"
   ]
  },
  {
   "cell_type": "code",
   "execution_count": 12,
   "metadata": {},
   "outputs": [],
   "source": [
    "def D_cat(arr):\n",
    "    new_arr = []\n",
    "    for i in arr:\n",
    "        new_arr.append(int(i[-6:-3]))\n",
    "    return new_arr\n",
    "\n",
    "data_train['cat_D'] = data_train['ProductList'].apply(D_cat)\n",
    "data_test['cat_D'] = data_test['ProductList'].apply(D_cat)"
   ]
  },
  {
   "cell_type": "code",
   "execution_count": 13,
   "metadata": {},
   "outputs": [],
   "source": [
    "data_train['mode_D'] = data_train['cat_D'].apply(lambda x: max(set(x), key = x.count))\n",
    "data_test['mode_D'] = data_test['cat_D'].apply(lambda x: max(set(x), key = x.count))"
   ]
  },
  {
   "cell_type": "code",
   "execution_count": 14,
   "metadata": {},
   "outputs": [],
   "source": [
    "data_train['StartHour'] = data_train['startTime'].dt.hour \n",
    "data_test['StartHour'] = data_test['startTime'].dt.hour\n",
    "data_train['EndHour'] = data_train['endTime'].dt.hour\n",
    "data_test['EndHour'] = data_test['endTime'].dt.hour"
   ]
  },
  {
   "cell_type": "code",
   "execution_count": 15,
   "metadata": {},
   "outputs": [],
   "source": [
    "data_train['month'] = data_train['startTime'].dt.month\n",
    "data_test['month'] = data_test['startTime'].dt.month"
   ]
  },
  {
   "cell_type": "code",
   "execution_count": 16,
   "metadata": {},
   "outputs": [],
   "source": [
    "data_train['date'] = data_train['startTime'].dt.day\n",
    "data_test['date'] = data_test['startTime'].dt.day"
   ]
  },
  {
   "cell_type": "code",
   "execution_count": 19,
   "metadata": {},
   "outputs": [],
   "source": [
    "data_train['duration'][data_train['duration']>5] = 5.0\n",
    "data_train['duration'][data_train['duration']<0] = 0\n",
    "data_test['duration'][data_test['duration']>5] = 5.0\n",
    "data_test['duration'][data_test['duration']<0] = 0"
   ]
  },
  {
   "cell_type": "code",
   "execution_count": 20,
   "metadata": {},
   "outputs": [],
   "source": [
    "data_train['AvgTime'] = data_train['duration']/data_train['ProductCount']\n",
    "data_test['AvgTime'] = data_test['duration']/data_test['ProductCount']"
   ]
  },
  {
   "cell_type": "code",
   "execution_count": 21,
   "metadata": {},
   "outputs": [
    {
     "data": {
      "text/html": [
       "<div>\n",
       "<style scoped>\n",
       "    .dataframe tbody tr th:only-of-type {\n",
       "        vertical-align: middle;\n",
       "    }\n",
       "\n",
       "    .dataframe tbody tr th {\n",
       "        vertical-align: top;\n",
       "    }\n",
       "\n",
       "    .dataframe thead th {\n",
       "        text-align: right;\n",
       "    }\n",
       "</style>\n",
       "<table border=\"1\" class=\"dataframe\">\n",
       "  <thead>\n",
       "    <tr style=\"text-align: right;\">\n",
       "      <th></th>\n",
       "      <th>session_id</th>\n",
       "      <th>startTime</th>\n",
       "      <th>endTime</th>\n",
       "      <th>ProductList</th>\n",
       "      <th>gender</th>\n",
       "      <th>duration</th>\n",
       "      <th>ProductCount</th>\n",
       "      <th>day</th>\n",
       "      <th>A</th>\n",
       "      <th>B</th>\n",
       "      <th>...</th>\n",
       "      <th>mode_A</th>\n",
       "      <th>mode_B</th>\n",
       "      <th>mode_C</th>\n",
       "      <th>cat_D</th>\n",
       "      <th>mode_D</th>\n",
       "      <th>StartHour</th>\n",
       "      <th>EndHour</th>\n",
       "      <th>month</th>\n",
       "      <th>date</th>\n",
       "      <th>AvgTime</th>\n",
       "    </tr>\n",
       "  </thead>\n",
       "  <tbody>\n",
       "    <tr>\n",
       "      <td>0</td>\n",
       "      <td>u16159</td>\n",
       "      <td>2014-12-15 18:11:00</td>\n",
       "      <td>2014-12-15 18:12:00</td>\n",
       "      <td>[A00002/B00003/C00006/D28435/, A00002/B00003/C...</td>\n",
       "      <td>female</td>\n",
       "      <td>1.0</td>\n",
       "      <td>4</td>\n",
       "      <td>0</td>\n",
       "      <td>[2, 2, 2, 2]</td>\n",
       "      <td>[3, 3, 3, 3]</td>\n",
       "      <td>...</td>\n",
       "      <td>2</td>\n",
       "      <td>3</td>\n",
       "      <td>6</td>\n",
       "      <td>[284, 25, 284, 284]</td>\n",
       "      <td>284</td>\n",
       "      <td>18</td>\n",
       "      <td>18</td>\n",
       "      <td>12</td>\n",
       "      <td>15</td>\n",
       "      <td>0.250000</td>\n",
       "    </tr>\n",
       "    <tr>\n",
       "      <td>1</td>\n",
       "      <td>u10253</td>\n",
       "      <td>2014-12-16 14:35:00</td>\n",
       "      <td>2014-12-16 14:41:00</td>\n",
       "      <td>[A00001/B00009/C00031/D29404/, A00001/B00009/C...</td>\n",
       "      <td>male</td>\n",
       "      <td>5.0</td>\n",
       "      <td>7</td>\n",
       "      <td>1</td>\n",
       "      <td>[1, 1, 1, 1, 1, 1, 1]</td>\n",
       "      <td>[9, 9, 9, 9, 9, 9, 9]</td>\n",
       "      <td>...</td>\n",
       "      <td>1</td>\n",
       "      <td>9</td>\n",
       "      <td>31</td>\n",
       "      <td>[294, 26, 294, 294, 294, 254, 294]</td>\n",
       "      <td>294</td>\n",
       "      <td>14</td>\n",
       "      <td>14</td>\n",
       "      <td>12</td>\n",
       "      <td>16</td>\n",
       "      <td>0.714286</td>\n",
       "    </tr>\n",
       "    <tr>\n",
       "      <td>2</td>\n",
       "      <td>u19037</td>\n",
       "      <td>2014-01-12 15:58:00</td>\n",
       "      <td>2014-01-12 15:58:00</td>\n",
       "      <td>[A00002/B00001/C00020/D16944/]</td>\n",
       "      <td>female</td>\n",
       "      <td>0.0</td>\n",
       "      <td>1</td>\n",
       "      <td>6</td>\n",
       "      <td>[2]</td>\n",
       "      <td>[1]</td>\n",
       "      <td>...</td>\n",
       "      <td>2</td>\n",
       "      <td>1</td>\n",
       "      <td>20</td>\n",
       "      <td>[169]</td>\n",
       "      <td>169</td>\n",
       "      <td>15</td>\n",
       "      <td>15</td>\n",
       "      <td>1</td>\n",
       "      <td>12</td>\n",
       "      <td>0.000000</td>\n",
       "    </tr>\n",
       "    <tr>\n",
       "      <td>3</td>\n",
       "      <td>u14556</td>\n",
       "      <td>2014-11-23 02:57:00</td>\n",
       "      <td>2014-11-23 03:00:00</td>\n",
       "      <td>[A00002/B00004/C00018/D10284/, A00002/B00004/C...</td>\n",
       "      <td>female</td>\n",
       "      <td>3.0</td>\n",
       "      <td>3</td>\n",
       "      <td>6</td>\n",
       "      <td>[2, 2, 2]</td>\n",
       "      <td>[4, 4, 4]</td>\n",
       "      <td>...</td>\n",
       "      <td>2</td>\n",
       "      <td>4</td>\n",
       "      <td>18</td>\n",
       "      <td>[102, 102, 102]</td>\n",
       "      <td>102</td>\n",
       "      <td>2</td>\n",
       "      <td>3</td>\n",
       "      <td>11</td>\n",
       "      <td>23</td>\n",
       "      <td>1.000000</td>\n",
       "    </tr>\n",
       "    <tr>\n",
       "      <td>4</td>\n",
       "      <td>u24295</td>\n",
       "      <td>2014-12-17 16:44:00</td>\n",
       "      <td>2014-12-17 16:46:00</td>\n",
       "      <td>[A00001/B00001/C00012/D30805/, A00001/B00001/C...</td>\n",
       "      <td>male</td>\n",
       "      <td>2.0</td>\n",
       "      <td>2</td>\n",
       "      <td>2</td>\n",
       "      <td>[1, 1]</td>\n",
       "      <td>[1, 1]</td>\n",
       "      <td>...</td>\n",
       "      <td>1</td>\n",
       "      <td>1</td>\n",
       "      <td>12</td>\n",
       "      <td>[308, 308]</td>\n",
       "      <td>308</td>\n",
       "      <td>16</td>\n",
       "      <td>16</td>\n",
       "      <td>12</td>\n",
       "      <td>17</td>\n",
       "      <td>1.000000</td>\n",
       "    </tr>\n",
       "  </tbody>\n",
       "</table>\n",
       "<p>5 rows × 22 columns</p>\n",
       "</div>"
      ],
      "text/plain": [
       "  session_id           startTime             endTime  \\\n",
       "0     u16159 2014-12-15 18:11:00 2014-12-15 18:12:00   \n",
       "1     u10253 2014-12-16 14:35:00 2014-12-16 14:41:00   \n",
       "2     u19037 2014-01-12 15:58:00 2014-01-12 15:58:00   \n",
       "3     u14556 2014-11-23 02:57:00 2014-11-23 03:00:00   \n",
       "4     u24295 2014-12-17 16:44:00 2014-12-17 16:46:00   \n",
       "\n",
       "                                         ProductList  gender  duration  \\\n",
       "0  [A00002/B00003/C00006/D28435/, A00002/B00003/C...  female       1.0   \n",
       "1  [A00001/B00009/C00031/D29404/, A00001/B00009/C...    male       5.0   \n",
       "2                     [A00002/B00001/C00020/D16944/]  female       0.0   \n",
       "3  [A00002/B00004/C00018/D10284/, A00002/B00004/C...  female       3.0   \n",
       "4  [A00001/B00001/C00012/D30805/, A00001/B00001/C...    male       2.0   \n",
       "\n",
       "   ProductCount  day                      A                      B  ...  \\\n",
       "0             4    0           [2, 2, 2, 2]           [3, 3, 3, 3]  ...   \n",
       "1             7    1  [1, 1, 1, 1, 1, 1, 1]  [9, 9, 9, 9, 9, 9, 9]  ...   \n",
       "2             1    6                    [2]                    [1]  ...   \n",
       "3             3    6              [2, 2, 2]              [4, 4, 4]  ...   \n",
       "4             2    2                 [1, 1]                 [1, 1]  ...   \n",
       "\n",
       "  mode_A mode_B  mode_C                               cat_D  mode_D StartHour  \\\n",
       "0      2      3       6                 [284, 25, 284, 284]     284        18   \n",
       "1      1      9      31  [294, 26, 294, 294, 294, 254, 294]     294        14   \n",
       "2      2      1      20                               [169]     169        15   \n",
       "3      2      4      18                     [102, 102, 102]     102         2   \n",
       "4      1      1      12                          [308, 308]     308        16   \n",
       "\n",
       "   EndHour  month  date   AvgTime  \n",
       "0       18     12    15  0.250000  \n",
       "1       14     12    16  0.714286  \n",
       "2       15      1    12  0.000000  \n",
       "3        3     11    23  1.000000  \n",
       "4       16     12    17  1.000000  \n",
       "\n",
       "[5 rows x 22 columns]"
      ]
     },
     "execution_count": 21,
     "metadata": {},
     "output_type": "execute_result"
    }
   ],
   "source": [
    "data_train.head()"
   ]
  },
  {
   "cell_type": "code",
   "execution_count": null,
   "metadata": {},
   "outputs": [],
   "source": []
  },
  {
   "cell_type": "code",
   "execution_count": 42,
   "metadata": {},
   "outputs": [],
   "source": [
    "features = ['day', 'hour', 'duration', 'ProductCount', 'mode_A', 'mode_B', 'mode_C', 'mode_D']"
   ]
  },
  {
   "cell_type": "code",
   "execution_count": 43,
   "metadata": {},
   "outputs": [],
   "source": [
    "X = data_train.loc[:, features].values\n",
    "y = data_train.loc[:, 'gender'].values"
   ]
  },
  {
   "cell_type": "code",
   "execution_count": 44,
   "metadata": {},
   "outputs": [],
   "source": [
    "from sklearn.model_selection import train_test_split as tts"
   ]
  },
  {
   "cell_type": "code",
   "execution_count": 45,
   "metadata": {},
   "outputs": [],
   "source": [
    "X_train,X_test,y_train,y_test = tts(X,y, test_size = 0.2, random_state = 18, stratify = y)"
   ]
  },
  {
   "cell_type": "code",
   "execution_count": 46,
   "metadata": {},
   "outputs": [],
   "source": [
    "from xgboost import XGBClassifier"
   ]
  },
  {
   "cell_type": "code",
   "execution_count": 47,
   "metadata": {},
   "outputs": [],
   "source": [
    "params={\n",
    " \"learning_rate\"    : [0.05, 0.10, 0.15, 0.20, 0.25, 0.30 ] ,\n",
    " \"max_depth\"        : [ 3, 4, 5, 6, 8, 10, 12, 15],\n",
    " \"min_child_weight\" : [ 1, 3, 5, 7 ],\n",
    " \"gamma\"            : [ 0.0, 0.1, 0.2 , 0.3, 0.4 ],\n",
    " \"colsample_bytree\" : [ 0.3, 0.4, 0.5 , 0.7 ]\n",
    "}"
   ]
  },
  {
   "cell_type": "code",
   "execution_count": 48,
   "metadata": {},
   "outputs": [],
   "source": [
    "from sklearn.model_selection import RandomizedSearchCV, GridSearchCV"
   ]
  },
  {
   "cell_type": "code",
   "execution_count": 49,
   "metadata": {},
   "outputs": [],
   "source": [
    "classifier = XGBClassifier()"
   ]
  },
  {
   "cell_type": "code",
   "execution_count": 50,
   "metadata": {},
   "outputs": [],
   "source": [
    "random_search=RandomizedSearchCV(classifier,param_distributions=params,n_iter=5,scoring='roc_auc',n_jobs=-1,cv=5,verbose=3)"
   ]
  },
  {
   "cell_type": "code",
   "execution_count": 51,
   "metadata": {},
   "outputs": [
    {
     "name": "stdout",
     "output_type": "stream",
     "text": [
      "Fitting 5 folds for each of 5 candidates, totalling 25 fits\n"
     ]
    },
    {
     "name": "stderr",
     "output_type": "stream",
     "text": [
      "[Parallel(n_jobs=-1)]: Using backend LokyBackend with 4 concurrent workers.\n",
      "[Parallel(n_jobs=-1)]: Done  25 out of  25 | elapsed:    4.0s finished\n"
     ]
    },
    {
     "data": {
      "text/plain": [
       "RandomizedSearchCV(cv=5, error_score='raise-deprecating',\n",
       "                   estimator=XGBClassifier(base_score=0.5, booster='gbtree',\n",
       "                                           colsample_bylevel=1,\n",
       "                                           colsample_bynode=1,\n",
       "                                           colsample_bytree=1, gamma=0,\n",
       "                                           learning_rate=0.1, max_delta_step=0,\n",
       "                                           max_depth=3, min_child_weight=1,\n",
       "                                           missing=None, n_estimators=100,\n",
       "                                           n_jobs=1, nthread=None,\n",
       "                                           objective='binary:logistic',\n",
       "                                           random_state=0, reg_alpha=0...\n",
       "                                           seed=None, silent=None, subsample=1,\n",
       "                                           verbosity=1),\n",
       "                   iid='warn', n_iter=5, n_jobs=-1,\n",
       "                   param_distributions={'colsample_bytree': [0.3, 0.4, 0.5,\n",
       "                                                             0.7],\n",
       "                                        'gamma': [0.0, 0.1, 0.2, 0.3, 0.4],\n",
       "                                        'learning_rate': [0.05, 0.1, 0.15, 0.2,\n",
       "                                                          0.25, 0.3],\n",
       "                                        'max_depth': [3, 4, 5, 6, 8, 10, 12,\n",
       "                                                      15],\n",
       "                                        'min_child_weight': [1, 3, 5, 7]},\n",
       "                   pre_dispatch='2*n_jobs', random_state=None, refit=True,\n",
       "                   return_train_score=False, scoring='roc_auc', verbose=3)"
      ]
     },
     "execution_count": 51,
     "metadata": {},
     "output_type": "execute_result"
    }
   ],
   "source": [
    "random_search.fit(X_train,y_train)"
   ]
  },
  {
   "cell_type": "code",
   "execution_count": 52,
   "metadata": {},
   "outputs": [
    {
     "data": {
      "text/plain": [
       "XGBClassifier(base_score=0.5, booster='gbtree', colsample_bylevel=1,\n",
       "              colsample_bynode=1, colsample_bytree=0.4, gamma=0.3,\n",
       "              learning_rate=0.15, max_delta_step=0, max_depth=15,\n",
       "              min_child_weight=3, missing=None, n_estimators=100, n_jobs=1,\n",
       "              nthread=None, objective='binary:logistic', random_state=0,\n",
       "              reg_alpha=0, reg_lambda=1, scale_pos_weight=1, seed=None,\n",
       "              silent=None, subsample=1, verbosity=1)"
      ]
     },
     "execution_count": 52,
     "metadata": {},
     "output_type": "execute_result"
    }
   ],
   "source": [
    "random_search.best_estimator_"
   ]
  },
  {
   "cell_type": "code",
   "execution_count": 53,
   "metadata": {},
   "outputs": [
    {
     "data": {
      "text/plain": [
       "XGBClassifier(base_score=0.5, booster='gbtree', colsample_bylevel=1,\n",
       "              colsample_bynode=1, colsample_bytree=0.4, gamma=0.3,\n",
       "              learning_rate=0.15, max_delta_step=0, max_depth=15,\n",
       "              min_child_weight=3, missing=None, n_estimators=100, n_jobs=1,\n",
       "              nthread=None, objective='binary:logistic', random_state=0,\n",
       "              reg_alpha=0, reg_lambda=1, scale_pos_weight=1, seed=None,\n",
       "              silent=None, subsample=1, verbosity=1)"
      ]
     },
     "execution_count": 53,
     "metadata": {},
     "output_type": "execute_result"
    }
   ],
   "source": [
    "cl = XGBClassifier(base_score=0.5, booster='gbtree', colsample_bylevel=1,\n",
    "              colsample_bynode=1, colsample_bytree=0.4, gamma=0.3,\n",
    "              learning_rate=0.15, max_delta_step=0, max_depth=15,\n",
    "              min_child_weight=3, missing=None, n_estimators=100, n_jobs=1,\n",
    "              nthread=None, objective='binary:logistic', random_state=0,\n",
    "              reg_alpha=0, reg_lambda=1, scale_pos_weight=1, seed=None,\n",
    "              silent=None, subsample=1, verbosity=1)\n",
    "cl.fit(X_train,y_train)"
   ]
  },
  {
   "cell_type": "code",
   "execution_count": 54,
   "metadata": {},
   "outputs": [],
   "source": [
    "y_pred = cl.predict(X_test)"
   ]
  },
  {
   "cell_type": "code",
   "execution_count": 55,
   "metadata": {},
   "outputs": [],
   "source": [
    "from sklearn.metrics import confusion_matrix as c_m"
   ]
  },
  {
   "cell_type": "code",
   "execution_count": 56,
   "metadata": {},
   "outputs": [
    {
     "data": {
      "text/plain": [
       "array([[1565,   73],\n",
       "       [ 191,  271]], dtype=int64)"
      ]
     },
     "execution_count": 56,
     "metadata": {},
     "output_type": "execute_result"
    }
   ],
   "source": [
    "cm = c_m(y_test, y_pred)\n",
    "cm"
   ]
  },
  {
   "cell_type": "code",
   "execution_count": 57,
   "metadata": {},
   "outputs": [
    {
     "data": {
      "text/plain": [
       "0.8742857142857143"
      ]
     },
     "execution_count": 57,
     "metadata": {},
     "output_type": "execute_result"
    }
   ],
   "source": [
    "(cm[0][0]+cm[1][1])/len(y_test)"
   ]
  },
  {
   "cell_type": "code",
   "execution_count": 62,
   "metadata": {},
   "outputs": [
    {
     "data": {
      "text/plain": [
       "0.8745245714136569"
      ]
     },
     "execution_count": 62,
     "metadata": {},
     "output_type": "execute_result"
    }
   ],
   "source": [
    "from sklearn.model_selection import cross_val_score\n",
    "accuracies = cross_val_score(estimator = cl, X = X_train, y = y_train, cv = 5)\n",
    "accuracies.mean()\n"
   ]
  },
  {
   "cell_type": "code",
   "execution_count": 64,
   "metadata": {},
   "outputs": [
    {
     "data": {
      "text/plain": [
       "0.0035127111734819705"
      ]
     },
     "execution_count": 64,
     "metadata": {},
     "output_type": "execute_result"
    }
   ],
   "source": [
    "accuracies.std()"
   ]
  },
  {
   "cell_type": "code",
   "execution_count": null,
   "metadata": {},
   "outputs": [],
   "source": []
  },
  {
   "cell_type": "code",
   "execution_count": 67,
   "metadata": {},
   "outputs": [
    {
     "data": {
      "text/plain": [
       "{'min_child_weight': 3,\n",
       " 'max_depth': 15,\n",
       " 'learning_rate': 0.15,\n",
       " 'gamma': 0.3,\n",
       " 'colsample_bytree': 0.4}"
      ]
     },
     "execution_count": 67,
     "metadata": {},
     "output_type": "execute_result"
    }
   ],
   "source": [
    "best_params = random_search.best_params_\n",
    "best_params"
   ]
  },
  {
   "cell_type": "code",
   "execution_count": null,
   "metadata": {},
   "outputs": [],
   "source": []
  },
  {
   "cell_type": "code",
   "execution_count": 66,
   "metadata": {},
   "outputs": [],
   "source": [
    "from xgboost import plot_importance"
   ]
  },
  {
   "cell_type": "code",
   "execution_count": null,
   "metadata": {},
   "outputs": [],
   "source": [
    "plot_importance(model_name)"
   ]
  },
  {
   "cell_type": "code",
   "execution_count": 58,
   "metadata": {},
   "outputs": [],
   "source": [
    "X_sub = data_test.loc[:, features].values"
   ]
  },
  {
   "cell_type": "code",
   "execution_count": 59,
   "metadata": {},
   "outputs": [],
   "source": [
    "y_sub = cl.predict(X_sub)"
   ]
  },
  {
   "cell_type": "code",
   "execution_count": 60,
   "metadata": {},
   "outputs": [],
   "source": [
    "df = pd.DataFrame({'session_id':data_test['session_id'], 'gender':y_sub})"
   ]
  },
  {
   "cell_type": "code",
   "execution_count": 61,
   "metadata": {},
   "outputs": [],
   "source": [
    "df.to_csv('sub15.csv', index=False)"
   ]
  },
  {
   "cell_type": "code",
   "execution_count": null,
   "metadata": {},
   "outputs": [],
   "source": []
  }
 ],
 "metadata": {
  "kernelspec": {
   "display_name": "Python 3",
   "language": "python",
   "name": "python3"
  },
  "language_info": {
   "codemirror_mode": {
    "name": "ipython",
    "version": 3
   },
   "file_extension": ".py",
   "mimetype": "text/x-python",
   "name": "python",
   "nbconvert_exporter": "python",
   "pygments_lexer": "ipython3",
   "version": "3.7.4"
  }
 },
 "nbformat": 4,
 "nbformat_minor": 4
}
